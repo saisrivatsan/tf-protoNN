{
 "cells": [
  {
   "cell_type": "markdown",
   "metadata": {},
   "source": [
    "# tf-ProtoNN \n",
    "### Implementation of ProtoNN in tensorflow (single-GPU version) for large-scale multilabel learning"
   ]
  },
  {
   "cell_type": "code",
   "execution_count": 1,
   "metadata": {
    "collapsed": true
   },
   "outputs": [],
   "source": [
    "from __future__ import absolute_import\n",
    "from __future__ import division\n",
    "from __future__ import print_function\n",
    "\n",
    "import os\n",
    "import time\n",
    "import numpy as np\n",
    "import scipy.io as sio\n",
    "\n",
    "from model import *\n",
    "from preprocess import *\n",
    "\n",
    "from trainer.single_gpu_train import Trainer\n",
    "import cfgs.config_eurlex_with_preprocessing as config\n",
    "\n",
    "# Set GPU = 1\n",
    "config.cfg.num_gpus = 1"
   ]
  },
  {
   "cell_type": "markdown",
   "metadata": {},
   "source": [
    "### Display dataset and parameter stats"
   ]
  },
  {
   "cell_type": "code",
   "execution_count": 2,
   "metadata": {},
   "outputs": [
    {
     "name": "stdout",
     "output_type": "stream",
     "text": [
      "Data-Stats:\n",
      "Num instances =  15539\n",
      "Feature dimensionality =  5000\n",
      "Label dimensionality =  3993\n",
      "Mean pts per label =  20.6686701728\n",
      "Mean labels per pt =  5.31115258382\n",
      "Param-stats:\n",
      "Projection-Dim: 250\n",
      "Num Projections: 1000\n"
     ]
    }
   ],
   "source": [
    "path = os.path.join(config.cfg.dir_name, \"train_data\")\n",
    "X, Y = data_loader.data_loader(path, config.cfg)\n",
    "print(\"Data-Stats:\")\n",
    "print(\"Num instances = \", X.shape[0])\n",
    "print(\"Feature dimensionality = \", X.shape[-1])\n",
    "print(\"Label dimensionality = \", Y.shape[-1])\n",
    "print(\"Mean pts per label = \", Y.nnz/Y.shape[1])\n",
    "print(\"Mean labels per pt = \", Y.nnz/Y.shape[0])\n",
    "\n",
    "print(\"Param-stats:\")\n",
    "print(\"Projection-Dim: %d\"%config.cfg.d)\n",
    "print(\"Num Projections: %d\"%config.cfg.m)"
   ]
  },
  {
   "cell_type": "markdown",
   "metadata": {},
   "source": [
    "### Preprocessing (PCA and clustering) for parameter initialization"
   ]
  },
  {
   "cell_type": "code",
   "execution_count": 3,
   "metadata": {},
   "outputs": [
    {
     "name": "stdout",
     "output_type": "stream",
     "text": [
      "Time-taken for pre-training: 92.2870\n"
     ]
    }
   ],
   "source": [
    "tic = time.time()\n",
    "D = X.shape[-1]\n",
    "d = config.cfg.d\n",
    "m = config.cfg.m\n",
    "W0, Wx = pca.train_pca(X, d)\n",
    "B0 = clustering.train_kmeans(Wx, m, ngpu = 1).T\n",
    "Z0 = prototypes.get_prototypes(Y, Wx, B0, num_pts_per_cluster=config.cfg.num_pts_per_cluster)\n",
    "t_elapsed = time.time() - tic;\n",
    "print(\"Time-taken for pre-training: %.4f\"%(t_elapsed))\n",
    "\n",
    "path = os.path.join(config.cfg.dir_name, \"init_params_faiss.mat\")\n",
    "sio.savemat(path, {'W':W0, 'B':B0, 'Z':Z0})"
   ]
  },
  {
   "cell_type": "markdown",
   "metadata": {},
   "source": [
    "### Run training"
   ]
  },
  {
   "cell_type": "code",
   "execution_count": 4,
   "metadata": {},
   "outputs": [
    {
     "name": "stdout",
     "output_type": "stream",
     "text": [
      "W variable created on gpu\n",
      "B variable created on gpu\n",
      "Z variable created on gpu\n",
      "WARNING:tensorflow:From /n/home13/sravindranath/.conda/envs/tf/lib/python2.7/site-packages/tensorflow/contrib/learn/python/learn/datasets/base.py:198: retry (from tensorflow.contrib.learn.python.learn.datasets.base) is deprecated and will be removed in a future version.\n",
      "Instructions for updating:\n",
      "Use the retry module or similar alternatives.\n"
     ]
    },
    {
     "name": "stderr",
     "output_type": "stream",
     "text": [
      "2019-01-10 05:19:01,262:WARNING:From /n/home13/sravindranath/.conda/envs/tf/lib/python2.7/site-packages/tensorflow/contrib/learn/python/learn/datasets/base.py:198: retry (from tensorflow.contrib.learn.python.learn.datasets.base) is deprecated and will be removed in a future version.\n",
      "Instructions for updating:\n",
      "Use the retry module or similar alternatives.\n",
      "2019-01-10 05:19:43,415:INFO:TRAIN-BATCH Iter = 100, t = 6.39, Loss = 555.09, Prec@1: 0.7812, Prec@3: 0.6133, Prec@5: 0.5031\n",
      "2019-01-10 05:19:43,511:INFO:VAL-ALL Iter = 100, t = 0.09, Loss = 563.51, Prec@1: 0.7445, Prec@3: 0.5794, Prec@5: 0.4712\n",
      "2019-01-10 05:19:51,365:INFO:TRAIN-BATCH Iter = 200, t = 12.64, Loss = 541.68, Prec@1: 0.8242, Prec@3: 0.6732, Prec@5: 0.5531\n",
      "2019-01-10 05:19:51,470:INFO:VAL-ALL Iter = 200, t = 0.10, Loss = 548.84, Prec@1: 0.7625, Prec@3: 0.5987, Prec@5: 0.4894\n",
      "2019-01-10 05:19:59,600:INFO:TRAIN-BATCH Iter = 300, t = 18.88, Loss = 518.53, Prec@1: 0.8555, Prec@3: 0.6875, Prec@5: 0.5328\n",
      "2019-01-10 05:19:59,702:INFO:VAL-ALL Iter = 300, t = 0.10, Loss = 540.76, Prec@1: 0.7757, Prec@3: 0.6096, Prec@5: 0.4965\n",
      "2019-01-10 05:20:07,607:INFO:TRAIN-BATCH Iter = 400, t = 25.12, Loss = 496.10, Prec@1: 0.8906, Prec@3: 0.7135, Prec@5: 0.5719\n",
      "2019-01-10 05:20:07,719:INFO:VAL-ALL Iter = 400, t = 0.11, Loss = 534.54, Prec@1: 0.7799, Prec@3: 0.6189, Prec@5: 0.5083\n",
      "2019-01-10 05:20:15,607:INFO:TRAIN-BATCH Iter = 500, t = 31.37, Loss = 478.36, Prec@1: 0.8984, Prec@3: 0.7396, Prec@5: 0.6039\n",
      "2019-01-10 05:20:15,719:INFO:VAL-ALL Iter = 500, t = 0.11, Loss = 531.17, Prec@1: 0.7799, Prec@3: 0.6230, Prec@5: 0.5128\n",
      "2019-01-10 05:20:23,629:INFO:TRAIN-BATCH Iter = 600, t = 37.62, Loss = 461.39, Prec@1: 0.9219, Prec@3: 0.7695, Prec@5: 0.6227\n",
      "2019-01-10 05:20:23,739:INFO:VAL-ALL Iter = 600, t = 0.11, Loss = 527.78, Prec@1: 0.7799, Prec@3: 0.6268, Prec@5: 0.5156\n",
      "2019-01-10 05:20:31,684:INFO:TRAIN-BATCH Iter = 700, t = 43.89, Loss = 456.26, Prec@1: 0.9414, Prec@3: 0.7826, Prec@5: 0.6305\n",
      "2019-01-10 05:20:31,788:INFO:VAL-ALL Iter = 700, t = 0.10, Loss = 526.08, Prec@1: 0.7867, Prec@3: 0.6272, Prec@5: 0.5179\n",
      "2019-01-10 05:20:39,686:INFO:TRAIN-BATCH Iter = 800, t = 50.13, Loss = 450.45, Prec@1: 0.9453, Prec@3: 0.7982, Prec@5: 0.6523\n",
      "2019-01-10 05:20:39,797:INFO:VAL-ALL Iter = 800, t = 0.11, Loss = 523.94, Prec@1: 0.7825, Prec@3: 0.6327, Prec@5: 0.5190\n",
      "2019-01-10 05:20:47,699:INFO:TRAIN-BATCH Iter = 900, t = 56.38, Loss = 443.77, Prec@1: 0.9531, Prec@3: 0.8164, Prec@5: 0.6617\n",
      "2019-01-10 05:20:47,808:INFO:VAL-ALL Iter = 900, t = 0.10, Loss = 521.93, Prec@1: 0.7828, Prec@3: 0.6358, Prec@5: 0.5215\n",
      "2019-01-10 05:20:55,791:INFO:TRAIN-BATCH Iter = 1000, t = 62.62, Loss = 452.81, Prec@1: 0.9727, Prec@3: 0.8216, Prec@5: 0.6820\n",
      "2019-01-10 05:20:55,896:INFO:VAL-ALL Iter = 1000, t = 0.10, Loss = 520.75, Prec@1: 0.7819, Prec@3: 0.6385, Prec@5: 0.5227\n",
      "2019-01-10 05:20:56,005:INFO:TEST-ALL Iter = 1000, t = 0.11, Loss = 529.12, Prec@1: 0.7839, Prec@3: 0.6275, Prec@5: 0.5118\n"
     ]
    }
   ],
   "source": [
    "m = Trainer(config.cfg).train()"
   ]
  }
 ],
 "metadata": {
  "kernelspec": {
   "display_name": "Python 2",
   "language": "python",
   "name": "python2"
  },
  "language_info": {
   "codemirror_mode": {
    "name": "ipython",
    "version": 2
   },
   "file_extension": ".py",
   "mimetype": "text/x-python",
   "name": "python",
   "nbconvert_exporter": "python",
   "pygments_lexer": "ipython2",
   "version": "2.7.13"
  }
 },
 "nbformat": 4,
 "nbformat_minor": 2
}
