{
 "cells": [
  {
   "cell_type": "code",
   "execution_count": 1,
   "metadata": {
    "collapsed": true
   },
   "outputs": [],
   "source": [
    "from __future__ import print_function\n",
    "import os\n",
    "import faiss\n",
    "import config\n",
    "import data_loader\n",
    "import numpy as np\n",
    "import scipy.io as sio\n",
    "from scipy.sparse import csr_matrix"
   ]
  },
  {
   "cell_type": "code",
   "execution_count": 4,
   "metadata": {
    "collapsed": true
   },
   "outputs": [],
   "source": [
    "# PCA\n",
    "def train_pca(X, d, ngpu = 1):\n",
    "    \"Runs PCA on one or several GPUs\"\n",
    "    \n",
    "    x = X.todense().astype(np.float32)\n",
    "    \n",
    "    D = x.shape[1]\n",
    "    pca = faiss.PCAMatrix(D, d)\n",
    "    pca.verbose = True\n",
    "    pca.have_bias = False\n",
    "        \n",
    "    pca.train(x)\n",
    "    assert pca.is_trained\n",
    "    \n",
    "    W = faiss.vector_float_to_array(pca.A)\n",
    "    Wx = pca.apply_py(x)\n",
    "    return W.reshape(d, D).T, Wx   "
   ]
  },
  {
   "cell_type": "code",
   "execution_count": 6,
   "metadata": {
    "collapsed": true
   },
   "outputs": [],
   "source": [
    "# Clusterting\n",
    "def train_kmeans(x, k, ngpu = 1):\n",
    "    \"Runs kmeans on one or several GPUs\"\n",
    "    \n",
    "    d = x.shape[1]\n",
    "    clus = faiss.Clustering(d, k)\n",
    "    clus.verbose = True\n",
    "    clus.niter = 20\n",
    "\n",
    "    # otherwise the kmeans implementation sub-samples the training set\n",
    "    clus.max_points_per_centroid = 10000000\n",
    "\n",
    "    res = [faiss.StandardGpuResources() for i in range(ngpu)]\n",
    "\n",
    "    flat_config = []\n",
    "    for i in range(ngpu):\n",
    "        cfg = faiss.GpuIndexFlatConfig()\n",
    "        cfg.useFloat16 = False\n",
    "        cfg.device = i\n",
    "        flat_config.append(cfg)\n",
    "\n",
    "    if ngpu == 1:\n",
    "        index = faiss.GpuIndexFlatL2(res[0], d, flat_config[0])\n",
    "    else:\n",
    "        indexes = [faiss.GpuIndexFlatL2(res[i], d, flat_config[i]) for i in range(ngpu)]\n",
    "        index = faiss.IndexProxy()\n",
    "        for sub_index in indexes:\n",
    "            index.addIndex(sub_index)\n",
    "\n",
    "    # perform the training\n",
    "    clus.train(x, index)\n",
    "    centroids = faiss.vector_float_to_array(clus.centroids)\n",
    "\n",
    "    return centroids.reshape(k, d)"
   ]
  },
  {
   "cell_type": "code",
   "execution_count": null,
   "metadata": {
    "collapsed": true
   },
   "outputs": [],
   "source": [
    "def l2_normalized(a, axis=-1):\n",
    "    l2 = np.atleast_1d(np.linalg.norm(a, 2, axis))\n",
    "    l2[l2==0] = 1\n",
    "    return a / np.expand_dims(l2, axis)\n",
    "\n",
    "def linf_normalized(a, axis=-1):\n",
    "    l2 = a.max(axis)\n",
    "    l2[l2==0] = 1\n",
    "    return a / np.expand_dims(l2, axis)"
   ]
  },
  {
   "cell_type": "code",
   "execution_count": 2,
   "metadata": {
    "collapsed": true
   },
   "outputs": [],
   "source": [
    "path = os.path.join(config.cfg.dir_name, \"train_data\")\n",
    "X, Y = data_loader.data_loader(path, config.cfg)\n",
    "print(\"X.shape = \", X.shape)\n",
    "print(\"Y.shape = \", Y.shape)\n",
    "print(\"Projection-Dim: %d\"%config.cfg.d)\n",
    "print(\"Num Projections: %d\"%config.cfg.m)\n",
    "D = X.shape[-1]\n",
    "d = config.cfg.d\n",
    "m = config.cfg.m"
   ]
  },
  {
   "cell_type": "code",
   "execution_count": 5,
   "metadata": {
    "collapsed": true
   },
   "outputs": [],
   "source": [
    "W0, Wx = train_pca(X, d, ngpu = 1)"
   ]
  },
  {
   "cell_type": "code",
   "execution_count": 7,
   "metadata": {
    "collapsed": true
   },
   "outputs": [],
   "source": [
    "B0 = train_kmeans(Wx, m, ngpu = 1).T"
   ]
  },
  {
   "cell_type": "code",
   "execution_count": 25,
   "metadata": {
    "collapsed": true
   },
   "outputs": [],
   "source": [
    "index = faiss.IndexFlatL2 (d)\n",
    "index.add(Wx)\n",
    "D, I = index.search (B0.T, config.cfg.num_pts_per_cluster)\n",
    "Z0 = np.zeros((config.cfg.m, config.cfg.L))\n",
    "for idx,(dd,ii) in enumerate(zip(D,I)):\n",
    "    Z0[idx] = Y[ii].T.dot(dd)\n",
    "Z0 = linf_normalized(Z0)\n",
    "Z0 = csr_matrix(Z0)"
   ]
  },
  {
   "cell_type": "code",
   "execution_count": 29,
   "metadata": {
    "collapsed": true
   },
   "outputs": [],
   "source": [
    "path = os.path.join(config.cfg.dir_name, \"init_params_faiss.mat\")\n",
    "sio.savemat(path, {'W':W0, 'B':B0, 'Z':Z0})"
   ]
  },
  {
   "cell_type": "code",
   "execution_count": null,
   "metadata": {
    "collapsed": true
   },
   "outputs": [],
   "source": []
  }
 ],
 "metadata": {
  "kernelspec": {
   "display_name": "Python 2",
   "language": "python",
   "name": "python2"
  },
  "language_info": {
   "codemirror_mode": {
    "name": "ipython",
    "version": 2
   },
   "file_extension": ".py",
   "mimetype": "text/x-python",
   "name": "python",
   "nbconvert_exporter": "python",
   "pygments_lexer": "ipython2",
   "version": "2.7.13"
  }
 },
 "nbformat": 4,
 "nbformat_minor": 2
}
