{
 "cells": [
  {
   "cell_type": "code",
   "execution_count": 1,
   "metadata": {},
   "outputs": [],
   "source": [
    "from __future__ import absolute_import\n",
    "from __future__ import division\n",
    "from __future__ import print_function\n",
    "\n",
    "import os\n",
    "import numpy as np\n",
    "import scipy.io as sio\n",
    "\n",
    "from model import *\n",
    "from preprocess import *\n",
    "\n",
    "from trainer.single_gpu_train import Trainer\n",
    "import cfgs.config_eurlex_with_preprocess as config\n",
    "\n",
    "run_preprocess = False"
   ]
  },
  {
   "cell_type": "code",
   "execution_count": 2,
   "metadata": {},
   "outputs": [
    {
     "name": "stdout",
     "output_type": "stream",
     "text": [
      "Data-Stats:\n",
      "Num instances =  15539\n",
      "Feature dimensionality =  5000\n",
      "Label dimensionality =  3993\n",
      "Mean pts per label =  20.6686701728\n",
      "Mean labels per pt =  5.31115258382\n",
      "Param-stats:\n",
      "Projection-Dim: 250\n",
      "Num Projections: 1000\n"
     ]
    }
   ],
   "source": [
    "path = os.path.join(config.cfg.dir_name, \"train_data\")\n",
    "X, Y = data_loader.data_loader(path, config.cfg)\n",
    "print(\"Data-Stats:\")\n",
    "print(\"Num instances = \", X.shape[0])\n",
    "print(\"Feature dimensionality = \", X.shape[-1])\n",
    "print(\"Label dimensionality = \", Y.shape[-1])\n",
    "print(\"Mean pts per label = \", Y.nnz/Y.shape[1])\n",
    "print(\"Mean labels per pt = \", Y.nnz/Y.shape[0])\n",
    "\n",
    "print(\"Param-stats:\")\n",
    "print(\"Projection-Dim: %d\"%config.cfg.d)\n",
    "print(\"Num Projections: %d\"%config.cfg.m)"
   ]
  },
  {
   "cell_type": "code",
   "execution_count": null,
   "metadata": {
    "collapsed": true
   },
   "outputs": [],
   "source": [
    "if run_preprocess:\n",
    "    D = X.shape[-1]\n",
    "    d = config.cfg.d\n",
    "    m = config.cfg.m\n",
    "    W0, Wx = pca.train_pca(X, d)\n",
    "    B0 = clustering.train_kmeans(Wx, m, ngpu = 1).T\n",
    "    Z0 = prototypes.get_prototypes(Y, Wx, B0, num_pts_per_cluster=config.cfg.num_pts_per_cluster)\n",
    "\n",
    "    path = os.path.join(config.cfg.dir_name, \"init_params_faiss.mat\")\n",
    "    sio.savemat(path, {'W':W0, 'B':B0, 'Z':Z0})"
   ]
  },
  {
   "cell_type": "code",
   "execution_count": null,
   "metadata": {},
   "outputs": [
    {
     "name": "stdout",
     "output_type": "stream",
     "text": [
      "WARNING:tensorflow:From /n/home13/sravindranath/.conda/envs/tf/lib/python2.7/site-packages/tensorflow/contrib/learn/python/learn/datasets/base.py:198: retry (from tensorflow.contrib.learn.python.learn.datasets.base) is deprecated and will be removed in a future version.\n",
      "Instructions for updating:\n",
      "Use the retry module or similar alternatives.\n"
     ]
    },
    {
     "name": "stderr",
     "output_type": "stream",
     "text": [
      "2018-12-29 18:13:58,307:WARNING:From /n/home13/sravindranath/.conda/envs/tf/lib/python2.7/site-packages/tensorflow/contrib/learn/python/learn/datasets/base.py:198: retry (from tensorflow.contrib.learn.python.learn.datasets.base) is deprecated and will be removed in a future version.\n",
      "Instructions for updating:\n",
      "Use the retry module or similar alternatives.\n"
     ]
    }
   ],
   "source": [
    "m = Trainer(config.cfg).train()"
   ]
  }
 ],
 "metadata": {
  "kernelspec": {
   "display_name": "Python 2",
   "language": "python",
   "name": "python2"
  },
  "language_info": {
   "codemirror_mode": {
    "name": "ipython",
    "version": 2
   },
   "file_extension": ".py",
   "mimetype": "text/x-python",
   "name": "python",
   "nbconvert_exporter": "python",
   "pygments_lexer": "ipython2",
   "version": "2.7.13"
  }
 },
 "nbformat": 4,
 "nbformat_minor": 2
}
