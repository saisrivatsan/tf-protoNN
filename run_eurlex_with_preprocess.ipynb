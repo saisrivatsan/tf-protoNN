{
 "cells": [
  {
   "cell_type": "markdown",
   "metadata": {},
   "source": [
    "# tf-ProtoNN \n",
    "### Implementation of ProtoNN in tensorflow (single-GPU version) for large-scale multilabel learning"
   ]
  },
  {
   "cell_type": "code",
   "execution_count": 1,
   "metadata": {
    "collapsed": true
   },
   "outputs": [],
   "source": [
    "from __future__ import absolute_import\n",
    "from __future__ import division\n",
    "from __future__ import print_function\n",
    "\n",
    "import os\n",
    "import time\n",
    "import numpy as np\n",
    "import scipy.io as sio\n",
    "\n",
    "from model import *\n",
    "from preprocess import *\n",
    "\n",
    "from trainer.single_gpu_train import Trainer\n",
    "import cfgs.config_eurlex_with_preprocess as config\n",
    "\n",
    "# Set GPU = 1\n",
    "config.cfg.num_gpus = 1"
   ]
  },
  {
   "cell_type": "markdown",
   "metadata": {},
   "source": [
    "### Display dataset and parameter stats"
   ]
  },
  {
   "cell_type": "code",
   "execution_count": 2,
   "metadata": {},
   "outputs": [
    {
     "name": "stdout",
     "output_type": "stream",
     "text": [
      "Data-Stats:\n",
      "Num instances =  15539\n",
      "Feature dimensionality =  5000\n",
      "Label dimensionality =  3993\n",
      "Mean pts per label =  20.6686701728\n",
      "Mean labels per pt =  5.31115258382\n",
      "Param-stats:\n",
      "Projection-Dim: 250\n",
      "Num Projections: 1000\n"
     ]
    }
   ],
   "source": [
    "path = os.path.join(config.cfg.dir_name, \"train_data\")\n",
    "X, Y = data_loader.data_loader(path, config.cfg)\n",
    "print(\"Data-Stats:\")\n",
    "print(\"Num instances = \", X.shape[0])\n",
    "print(\"Feature dimensionality = \", X.shape[-1])\n",
    "print(\"Label dimensionality = \", Y.shape[-1])\n",
    "print(\"Mean pts per label = \", Y.nnz/Y.shape[1])\n",
    "print(\"Mean labels per pt = \", Y.nnz/Y.shape[0])\n",
    "\n",
    "print(\"Param-stats:\")\n",
    "print(\"Projection-Dim: %d\"%config.cfg.d)\n",
    "print(\"Num Projections: %d\"%config.cfg.m)"
   ]
  },
  {
   "cell_type": "markdown",
   "metadata": {},
   "source": [
    "### Preprocessing (PCA and clustering) for parameter initialization"
   ]
  },
  {
   "cell_type": "code",
   "execution_count": 3,
   "metadata": {},
   "outputs": [
    {
     "name": "stdout",
     "output_type": "stream",
     "text": [
      "Time-taken for pre-training: 72.6670\n"
     ]
    }
   ],
   "source": [
    "tic = time.time()\n",
    "D = X.shape[-1]\n",
    "d = config.cfg.d\n",
    "m = config.cfg.m\n",
    "W0, Wx = pca.train_pca(X, d)\n",
    "B0 = clustering.train_kmeans(Wx, m, ngpu = 1).T\n",
    "Z0 = prototypes.get_prototypes(Y, Wx, B0, num_pts_per_cluster=config.cfg.num_pts_per_cluster)\n",
    "t_elapsed = time.time() - tic;\n",
    "print(\"Time-taken for pre-training: %.4f\"%(t_elapsed))\n",
    "\n",
    "path = os.path.join(config.cfg.dir_name, \"init_params_faiss.mat\")\n",
    "sio.savemat(path, {'W':W0, 'B':B0, 'Z':Z0})"
   ]
  },
  {
   "cell_type": "markdown",
   "metadata": {},
   "source": [
    "### Run training"
   ]
  },
  {
   "cell_type": "code",
   "execution_count": 4,
   "metadata": {},
   "outputs": [
    {
     "name": "stdout",
     "output_type": "stream",
     "text": [
      "W variable created on gpu\n",
      "B variable created on gpu\n",
      "Z variable created on gpu\n",
      "WARNING:tensorflow:From /n/home13/sravindranath/.conda/envs/tf/lib/python2.7/site-packages/tensorflow/contrib/learn/python/learn/datasets/base.py:198: retry (from tensorflow.contrib.learn.python.learn.datasets.base) is deprecated and will be removed in a future version.\n",
      "Instructions for updating:\n",
      "Use the retry module or similar alternatives.\n"
     ]
    },
    {
     "name": "stderr",
     "output_type": "stream",
     "text": [
      "2019-01-10 02:57:00,127:WARNING:From /n/home13/sravindranath/.conda/envs/tf/lib/python2.7/site-packages/tensorflow/contrib/learn/python/learn/datasets/base.py:198: retry (from tensorflow.contrib.learn.python.learn.datasets.base) is deprecated and will be removed in a future version.\n",
      "Instructions for updating:\n",
      "Use the retry module or similar alternatives.\n",
      "2019-01-10 02:57:21,945:INFO:TRAIN-BATCH Iter = 100, t = 6.36, Loss = 555.09, Prec@1: 0.7812, Prec@3: 0.6133, Prec@5: 0.5031\n",
      "2019-01-10 02:57:22,041:INFO:VAL-ALL Iter = 100, t = 0.09, Loss = 563.51, Prec@1: 0.7445, Prec@3: 0.5794, Prec@5: 0.4712\n",
      "2019-01-10 02:57:29,914:INFO:TRAIN-BATCH Iter = 200, t = 12.58, Loss = 541.68, Prec@1: 0.8242, Prec@3: 0.6732, Prec@5: 0.5531\n",
      "2019-01-10 02:57:30,020:INFO:VAL-ALL Iter = 200, t = 0.10, Loss = 548.84, Prec@1: 0.7625, Prec@3: 0.5987, Prec@5: 0.4893\n",
      "2019-01-10 02:57:37,892:INFO:TRAIN-BATCH Iter = 300, t = 18.78, Loss = 518.53, Prec@1: 0.8555, Prec@3: 0.6875, Prec@5: 0.5328\n",
      "2019-01-10 02:57:38,004:INFO:VAL-ALL Iter = 300, t = 0.11, Loss = 540.76, Prec@1: 0.7761, Prec@3: 0.6098, Prec@5: 0.4964\n",
      "2019-01-10 02:57:45,937:INFO:TRAIN-BATCH Iter = 400, t = 25.02, Loss = 496.10, Prec@1: 0.8906, Prec@3: 0.7135, Prec@5: 0.5719\n",
      "2019-01-10 02:57:46,046:INFO:VAL-ALL Iter = 400, t = 0.10, Loss = 534.54, Prec@1: 0.7802, Prec@3: 0.6190, Prec@5: 0.5082\n",
      "2019-01-10 02:57:54,151:INFO:TRAIN-BATCH Iter = 500, t = 31.25, Loss = 478.36, Prec@1: 0.8984, Prec@3: 0.7396, Prec@5: 0.6039\n",
      "2019-01-10 02:57:54,254:INFO:VAL-ALL Iter = 500, t = 0.10, Loss = 531.17, Prec@1: 0.7799, Prec@3: 0.6228, Prec@5: 0.5127\n",
      "2019-01-10 02:58:02,162:INFO:TRAIN-BATCH Iter = 600, t = 37.48, Loss = 461.37, Prec@1: 0.9219, Prec@3: 0.7695, Prec@5: 0.6227\n",
      "2019-01-10 02:58:02,271:INFO:VAL-ALL Iter = 600, t = 0.10, Loss = 527.77, Prec@1: 0.7806, Prec@3: 0.6272, Prec@5: 0.5155\n",
      "2019-01-10 02:58:10,150:INFO:TRAIN-BATCH Iter = 700, t = 43.69, Loss = 456.26, Prec@1: 0.9414, Prec@3: 0.7799, Prec@5: 0.6289\n",
      "2019-01-10 02:58:10,254:INFO:VAL-ALL Iter = 700, t = 0.10, Loss = 526.10, Prec@1: 0.7867, Prec@3: 0.6277, Prec@5: 0.5177\n",
      "2019-01-10 02:58:18,129:INFO:TRAIN-BATCH Iter = 800, t = 49.90, Loss = 450.42, Prec@1: 0.9453, Prec@3: 0.7982, Prec@5: 0.6523\n",
      "2019-01-10 02:58:18,230:INFO:VAL-ALL Iter = 800, t = 0.10, Loss = 523.95, Prec@1: 0.7822, Prec@3: 0.6329, Prec@5: 0.5187\n",
      "2019-01-10 02:58:26,123:INFO:TRAIN-BATCH Iter = 900, t = 56.10, Loss = 443.83, Prec@1: 0.9531, Prec@3: 0.8190, Prec@5: 0.6633\n",
      "2019-01-10 02:58:26,230:INFO:VAL-ALL Iter = 900, t = 0.10, Loss = 521.94, Prec@1: 0.7815, Prec@3: 0.6355, Prec@5: 0.5212\n",
      "2019-01-10 02:58:34,258:INFO:TRAIN-BATCH Iter = 1000, t = 62.30, Loss = 452.85, Prec@1: 0.9688, Prec@3: 0.8229, Prec@5: 0.6836\n",
      "2019-01-10 02:58:34,365:INFO:VAL-ALL Iter = 1000, t = 0.10, Loss = 520.75, Prec@1: 0.7802, Prec@3: 0.6388, Prec@5: 0.5222\n",
      "2019-01-10 02:58:34,473:INFO:TEST-ALL Iter = 1000, t = 0.10, Loss = 529.16, Prec@1: 0.7834, Prec@3: 0.6271, Prec@5: 0.5117\n"
     ]
    }
   ],
   "source": [
    "m = Trainer(config.cfg).train()"
   ]
  }
 ],
 "metadata": {
  "kernelspec": {
   "display_name": "Python 2",
   "language": "python",
   "name": "python2"
  },
  "language_info": {
   "codemirror_mode": {
    "name": "ipython",
    "version": 2
   },
   "file_extension": ".py",
   "mimetype": "text/x-python",
   "name": "python",
   "nbconvert_exporter": "python",
   "pygments_lexer": "ipython2",
   "version": "2.7.13"
  }
 },
 "nbformat": 4,
 "nbformat_minor": 2
}
