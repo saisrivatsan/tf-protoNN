{
 "cells": [
  {
   "cell_type": "code",
   "execution_count": 1,
   "metadata": {},
   "outputs": [],
   "source": [
    "from __future__ import absolute_import\n",
    "from __future__ import division\n",
    "from __future__ import print_function\n",
    "\n",
    "import os\n",
    "import numpy as np\n",
    "import scipy.io as sio\n",
    "\n",
    "from model import *\n",
    "from preprocess import *\n",
    "\n",
    "from trainer.single_gpu_train import Trainer\n",
    "import cfgs.config_eurlex_with_preprocess as config\n",
    "\n",
    "run_preprocess = False"
   ]
  },
  {
   "cell_type": "code",
   "execution_count": 2,
   "metadata": {},
   "outputs": [
    {
     "name": "stdout",
     "output_type": "stream",
     "text": [
      "Data-Stats:\n",
      "Num instances =  15539\n",
      "Feature dimensionality =  5000\n",
      "Label dimensionality =  3993\n",
      "Mean pts per label =  20.6686701728\n",
      "Mean labels per pt =  5.31115258382\n",
      "Param-stats:\n",
      "Projection-Dim: 250\n",
      "Num Projections: 1000\n"
     ]
    }
   ],
   "source": [
    "path = os.path.join(config.cfg.dir_name, \"train_data\")\n",
    "X, Y = data_loader.data_loader(path, config.cfg)\n",
    "print(\"Data-Stats:\")\n",
    "print(\"Num instances = \", X.shape[0])\n",
    "print(\"Feature dimensionality = \", X.shape[-1])\n",
    "print(\"Label dimensionality = \", Y.shape[-1])\n",
    "print(\"Mean pts per label = \", Y.nnz/Y.shape[1])\n",
    "print(\"Mean labels per pt = \", Y.nnz/Y.shape[0])\n",
    "\n",
    "print(\"Param-stats:\")\n",
    "print(\"Projection-Dim: %d\"%config.cfg.d)\n",
    "print(\"Num Projections: %d\"%config.cfg.m)"
   ]
  },
  {
   "cell_type": "code",
   "execution_count": null,
   "metadata": {
    "collapsed": true
   },
   "outputs": [],
   "source": [
    "if run_preprocess:\n",
    "    D = X.shape[-1]\n",
    "    d = config.cfg.d\n",
    "    m = config.cfg.m\n",
    "    W0, Wx = pca.train_pca(X, d)\n",
    "    B0 = clustering.train_kmeans(Wx, m, ngpu = 1).T\n",
    "    Z0 = prototypes.get_prototypes(Y, Wx, B0, num_pts_per_cluster=config.cfg.num_pts_per_cluster)\n",
    "\n",
    "    path = os.path.join(config.cfg.dir_name, \"init_params_faiss.mat\")\n",
    "    sio.savemat(path, {'W':W0, 'B':B0, 'Z':Z0})"
   ]
  },
  {
   "cell_type": "code",
   "execution_count": null,
   "metadata": {},
   "outputs": [
    {
     "name": "stdout",
     "output_type": "stream",
     "text": [
      "WARNING:tensorflow:From /n/home13/sravindranath/.conda/envs/tf/lib/python2.7/site-packages/tensorflow/contrib/learn/python/learn/datasets/base.py:198: retry (from tensorflow.contrib.learn.python.learn.datasets.base) is deprecated and will be removed in a future version.\n",
      "Instructions for updating:\n",
      "Use the retry module or similar alternatives.\n"
     ]
    },
    {
     "name": "stderr",
     "output_type": "stream",
     "text": [
      "2018-12-29 18:18:10,466:WARNING:From /n/home13/sravindranath/.conda/envs/tf/lib/python2.7/site-packages/tensorflow/contrib/learn/python/learn/datasets/base.py:198: retry (from tensorflow.contrib.learn.python.learn.datasets.base) is deprecated and will be removed in a future version.\n",
      "Instructions for updating:\n",
      "Use the retry module or similar alternatives.\n",
      "2018-12-29 18:19:05,478:INFO:TRAIN-BATCH Iter = 100, t = 35.06, Loss = 492.72, Prec@1: 0.7422, Prec@3: 0.5924, Prec@5: 0.4828\n",
      "2018-12-29 18:19:05,568:INFO:VAL-ALL Iter = 100, t = 0.09, Loss = 494.03, Prec@1: 0.7304, Prec@3: 0.5662, Prec@5: 0.4642\n",
      "2018-12-29 18:19:13,284:INFO:TRAIN-BATCH Iter = 200, t = 41.20, Loss = 485.97, Prec@1: 0.7930, Prec@3: 0.6562, Prec@5: 0.5336\n",
      "2018-12-29 18:19:13,377:INFO:VAL-ALL Iter = 200, t = 0.09, Loss = 484.32, Prec@1: 0.7548, Prec@3: 0.5855, Prec@5: 0.4815\n",
      "2018-12-29 18:19:21,134:INFO:TRAIN-BATCH Iter = 300, t = 47.32, Loss = 471.29, Prec@1: 0.8203, Prec@3: 0.6354, Prec@5: 0.5188\n",
      "2018-12-29 18:19:21,233:INFO:VAL-ALL Iter = 300, t = 0.09, Loss = 480.01, Prec@1: 0.7632, Prec@3: 0.5988, Prec@5: 0.4896\n",
      "2018-12-29 18:19:29,029:INFO:TRAIN-BATCH Iter = 400, t = 53.46, Loss = 455.89, Prec@1: 0.8555, Prec@3: 0.6732, Prec@5: 0.5336\n",
      "2018-12-29 18:19:29,125:INFO:VAL-ALL Iter = 400, t = 0.09, Loss = 477.62, Prec@1: 0.7751, Prec@3: 0.6083, Prec@5: 0.4952\n",
      "2018-12-29 18:19:36,901:INFO:TRAIN-BATCH Iter = 500, t = 59.61, Loss = 439.89, Prec@1: 0.8711, Prec@3: 0.7057, Prec@5: 0.5687\n",
      "2018-12-29 18:19:36,992:INFO:VAL-ALL Iter = 500, t = 0.09, Loss = 476.29, Prec@1: 0.7757, Prec@3: 0.6156, Prec@5: 0.4996\n",
      "2018-12-29 18:19:44,807:INFO:TRAIN-BATCH Iter = 600, t = 65.79, Loss = 428.82, Prec@1: 0.8867, Prec@3: 0.7227, Prec@5: 0.5734\n",
      "2018-12-29 18:19:44,902:INFO:VAL-ALL Iter = 600, t = 0.09, Loss = 475.52, Prec@1: 0.7777, Prec@3: 0.6190, Prec@5: 0.5026\n",
      "2018-12-29 18:19:52,697:INFO:TRAIN-BATCH Iter = 700, t = 71.93, Loss = 424.02, Prec@1: 0.9062, Prec@3: 0.7253, Prec@5: 0.5766\n",
      "2018-12-29 18:19:52,787:INFO:VAL-ALL Iter = 700, t = 0.09, Loss = 475.28, Prec@1: 0.7773, Prec@3: 0.6224, Prec@5: 0.5052\n",
      "2018-12-29 18:20:00,608:INFO:TRAIN-BATCH Iter = 800, t = 78.10, Loss = 416.84, Prec@1: 0.9375, Prec@3: 0.7552, Prec@5: 0.6156\n",
      "2018-12-29 18:20:00,699:INFO:VAL-ALL Iter = 800, t = 0.09, Loss = 475.19, Prec@1: 0.7799, Prec@3: 0.6237, Prec@5: 0.5088\n"
     ]
    }
   ],
   "source": [
    "m = Trainer(config.cfg).train()"
   ]
  }
 ],
 "metadata": {
  "kernelspec": {
   "display_name": "Python 2",
   "language": "python",
   "name": "python2"
  },
  "language_info": {
   "codemirror_mode": {
    "name": "ipython",
    "version": 2
   },
   "file_extension": ".py",
   "mimetype": "text/x-python",
   "name": "python",
   "nbconvert_exporter": "python",
   "pygments_lexer": "ipython2",
   "version": "2.7.13"
  }
 },
 "nbformat": 4,
 "nbformat_minor": 2
}
